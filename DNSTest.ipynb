{
  "nbformat": 4,
  "nbformat_minor": 0,
  "metadata": {
    "colab": {
      "name": "DNSTest.ipynb",
      "provenance": [],
      "authorship_tag": "ABX9TyMCU3FT/4blLXfF3WyQbe8J",
      "include_colab_link": true
    },
    "kernelspec": {
      "name": "python3",
      "display_name": "Python 3"
    },
    "language_info": {
      "name": "python"
    },
    "widgets": {
      "application/vnd.jupyter.widget-state+json": {
        "df51dc4533d7498692bb2baca0fca77c": {
          "model_module": "@jupyter-widgets/controls",
          "model_name": "TextareaModel",
          "state": {
            "_view_name": "TextareaView",
            "style": "IPY_MODEL_eec5054ea37c44ecb1ad8e026381757d",
            "rows": null,
            "_dom_classes": [],
            "description": "Domain(s):",
            "_model_name": "TextareaModel",
            "placeholder": "Comma delimited list of domains",
            "_view_module": "@jupyter-widgets/controls",
            "_model_module_version": "1.5.0",
            "value": "arteric.com, www.arteric.com",
            "_view_count": null,
            "disabled": false,
            "_view_module_version": "1.5.0",
            "continuous_update": true,
            "description_tooltip": null,
            "_model_module": "@jupyter-widgets/controls",
            "layout": "IPY_MODEL_3183b332e4f145c1a7a07660df673d9b"
          }
        },
        "eec5054ea37c44ecb1ad8e026381757d": {
          "model_module": "@jupyter-widgets/controls",
          "model_name": "DescriptionStyleModel",
          "state": {
            "_view_name": "StyleView",
            "_model_name": "DescriptionStyleModel",
            "description_width": "",
            "_view_module": "@jupyter-widgets/base",
            "_model_module_version": "1.5.0",
            "_view_count": null,
            "_view_module_version": "1.2.0",
            "_model_module": "@jupyter-widgets/controls"
          }
        },
        "3183b332e4f145c1a7a07660df673d9b": {
          "model_module": "@jupyter-widgets/base",
          "model_name": "LayoutModel",
          "state": {
            "_view_name": "LayoutView",
            "grid_template_rows": null,
            "right": null,
            "justify_content": null,
            "_view_module": "@jupyter-widgets/base",
            "overflow": null,
            "_model_module_version": "1.2.0",
            "_view_count": null,
            "flex_flow": null,
            "width": "auto",
            "min_width": null,
            "border": null,
            "align_items": null,
            "bottom": null,
            "_model_module": "@jupyter-widgets/base",
            "top": null,
            "grid_column": null,
            "overflow_y": null,
            "overflow_x": null,
            "grid_auto_flow": null,
            "grid_area": null,
            "grid_template_columns": null,
            "flex": "0 1 auto",
            "_model_name": "LayoutModel",
            "justify_items": null,
            "grid_row": null,
            "max_height": null,
            "align_content": null,
            "visibility": null,
            "align_self": null,
            "height": "60px",
            "min_height": "40px",
            "padding": null,
            "grid_auto_rows": null,
            "grid_gap": null,
            "max_width": null,
            "order": null,
            "_view_module_version": "1.2.0",
            "grid_template_areas": null,
            "object_position": null,
            "object_fit": null,
            "grid_auto_columns": null,
            "margin": null,
            "display": null,
            "left": null
          }
        },
        "433c0b63e8334b65b864b0db1fb325bc": {
          "model_module": "@jupyter-widgets/controls",
          "model_name": "TextareaModel",
          "state": {
            "_view_name": "TextareaView",
            "style": "IPY_MODEL_bbc07f59298b42b2ba13be433c577068",
            "rows": null,
            "_dom_classes": [],
            "description": "Nameserver(s):",
            "_model_name": "TextareaModel",
            "placeholder": "Comma delimited list of custom nameservers",
            "_view_module": "@jupyter-widgets/controls",
            "_model_module_version": "1.5.0",
            "value": "ns-592.awsdns-10.net\nns-201.awsdns-25.com\nns-1642.awsdns-13.co.uk\nns-1404.awsdns-47.org",
            "_view_count": null,
            "disabled": false,
            "_view_module_version": "1.5.0",
            "continuous_update": true,
            "description_tooltip": null,
            "_model_module": "@jupyter-widgets/controls",
            "layout": "IPY_MODEL_3183b332e4f145c1a7a07660df673d9b"
          }
        },
        "bbc07f59298b42b2ba13be433c577068": {
          "model_module": "@jupyter-widgets/controls",
          "model_name": "DescriptionStyleModel",
          "state": {
            "_view_name": "StyleView",
            "_model_name": "DescriptionStyleModel",
            "description_width": "",
            "_view_module": "@jupyter-widgets/base",
            "_model_module_version": "1.5.0",
            "_view_count": null,
            "_view_module_version": "1.2.0",
            "_model_module": "@jupyter-widgets/controls"
          }
        }
      }
    }
  },
  "cells": [
    {
      "cell_type": "markdown",
      "metadata": {
        "id": "view-in-github",
        "colab_type": "text"
      },
      "source": [
        "<a href=\"https://colab.research.google.com/github/Arteric-Jeff-Knight/collabs/blob/master/DNSTest.ipynb\" target=\"_parent\"><img src=\"https://colab.research.google.com/assets/colab-badge.svg\" alt=\"Open In Colab\"/></a>"
      ]
    },
    {
      "cell_type": "code",
      "metadata": {
        "colab": {
          "base_uri": "https://localhost:8080/",
          "height": 160,
          "referenced_widgets": [
            "df51dc4533d7498692bb2baca0fca77c",
            "eec5054ea37c44ecb1ad8e026381757d",
            "3183b332e4f145c1a7a07660df673d9b",
            "433c0b63e8334b65b864b0db1fb325bc",
            "bbc07f59298b42b2ba13be433c577068"
          ]
        },
        "cellView": "form",
        "id": "rM3Zos-s0PXd",
        "outputId": "38c7f939-c59c-4b2b-f960-752d979addc2"
      },
      "source": [
        "#@title <= Run this code block once to load libraries:\n",
        "\n",
        "!pip install dnspython\n",
        "\n",
        "import dns.query\n",
        "import dns.resolver\n",
        "import dns.zone\n",
        "import numpy as np\n",
        "import pandas as pd                                     # Import pandas.\n",
        "\n",
        "\n",
        "from IPython.display import display\n",
        "import ipywidgets as widgets\n",
        "\n",
        "l = widgets.Layout(flex='0 1 auto', height='60px', min_height='40px', width='auto')\n",
        "\n",
        "\n",
        "domains = widgets.Textarea(\n",
        "    value='arteric.com, www.arteric.com',\n",
        "    placeholder='Comma delimited list of domains',\n",
        "    description='Domain(s):',\n",
        "    disabled=False,\n",
        "    layout=l\n",
        ")\n",
        "\n",
        "namservers = widgets.Textarea(\n",
        "    value='',\n",
        "    placeholder='Comma delimited list of custom nameservers',\n",
        "    description='Nameserver(s):',\n",
        "    disabled=False,\n",
        "    layout=l\n",
        ")\n",
        "\n",
        "display(domains)\n",
        "\n",
        "display(namservers)\n"
      ],
      "execution_count": 142,
      "outputs": [
        {
          "output_type": "stream",
          "text": [
            "Requirement already satisfied: dnspython in /usr/local/lib/python3.7/dist-packages (2.1.0)\n"
          ],
          "name": "stdout"
        },
        {
          "output_type": "display_data",
          "data": {
            "application/vnd.jupyter.widget-view+json": {
              "model_id": "df51dc4533d7498692bb2baca0fca77c",
              "version_minor": 0,
              "version_major": 2
            },
            "text/plain": [
              "Textarea(value='arteric.com, www.arteric.com', description='Domain(s):', layout=Layout(flex='0 1 auto', height…"
            ]
          },
          "metadata": {
            "tags": []
          }
        },
        {
          "output_type": "display_data",
          "data": {
            "application/vnd.jupyter.widget-view+json": {
              "model_id": "433c0b63e8334b65b864b0db1fb325bc",
              "version_minor": 0,
              "version_major": 2
            },
            "text/plain": [
              "Textarea(value='', description='Nameserver(s):', layout=Layout(flex='0 1 auto', height='60px', min_height='40p…"
            ]
          },
          "metadata": {
            "tags": []
          }
        }
      ]
    },
    {
      "cell_type": "code",
      "metadata": {
        "colab": {
          "base_uri": "https://localhost:8080/",
          "height": 414
        },
        "cellView": "form",
        "id": "C0h36Nda1xkF",
        "outputId": "4bfddf0b-54c1-4c8b-fba7-c2b73772f7c0"
      },
      "source": [
        "#@title <= Run this code block to process entered values\n",
        "dlist = domains.value.replace(\" \",\"\").replace(\"\\n\",\",\").split(',')\n",
        "nslist = namservers.value.replace(\" \",\"\").replace(\"\\n\",\",\").split(',')\n",
        "\n",
        "\n",
        "res1 = dns.resolver.Resolver()\n",
        "res2 = dns.resolver.Resolver()\n",
        "nsips = {} \n",
        "for ns in nslist:\n",
        "  result = res1.resolve(ns,\"A\")\n",
        "  nsips[ns] = result[0].to_text()\n",
        "\n",
        "\n",
        "data = []\n",
        "for dm in dlist:\n",
        "  entry = {'domain': dm}\n",
        "  try:\n",
        "    result = res1.resolve(dm,\"A\")\n",
        "    ips = []\n",
        "    for rdata in result:\n",
        "      ips.append(rdata.to_text())\n",
        "      dm_ips = '|'.join(ips)\n",
        "  except Exception as e:\n",
        "    dm_ips = e\n",
        "  try:\n",
        "    result = res1.resolve(dm,\"MX\")\n",
        "    mxs = []\n",
        "    for rdata in result:\n",
        "      mxs.append(rdata.to_text())\n",
        "      mx_ips = '|'.join(mxs)\n",
        "  except Exception as e:\n",
        "    mx_ips = e\n",
        "  for ns in nsips:\n",
        "    res2.nameservers = [nsips[ns]]\n",
        "    try:\n",
        "      result = res2.resolve(dm,\"A\")\n",
        "      ips = []\n",
        "      for rdata in result:\n",
        "        ips.append(rdata.to_text())\n",
        "        other_ips = '|'.join(ips)\n",
        "    except Exception as e:\n",
        "      other_ips = e\n",
        "    try:\n",
        "      result = res2.resolve(dm,\"MX\")\n",
        "      mxs = []\n",
        "      for rdata in result:\n",
        "        mxs.append(rdata.to_text())\n",
        "        other_mxs = '|'.join(mxs)\n",
        "    except Exception as e:\n",
        "      other_mxs = e\n",
        "    data.append({\n",
        "      'Domain': dm,\n",
        "      'Current IP': dm_ips,\n",
        "      'Current MX': mx_ips,\n",
        "      'Custom Nameserver': ns,\n",
        "      #'Custom Nameserver IP': nsips[ns],\n",
        "      'Custom Result IP': other_ips,\n",
        "      'Custom Result MX': other_mxs,\n",
        "      'Same IP': (dm_ip == other_ip),\n",
        "      'Same MX': (mx_ips == other_mxs)\n",
        "    })\n",
        "  \n",
        "df = pd.DataFrame(data)\n",
        "\n",
        "df.loc[3, 'Same IP'] = False\n",
        "\n",
        "wrong_ips = df[df['Same IP'] == False]\n",
        "\n",
        "if len(wrong_ips):\n",
        "  print('\\nThe following rows contain erroneous data:')\n",
        "  display(wrong_ips)\n",
        "  print('\\n\\nThe rest of the resuls are correct:')\n",
        "  display(df[df['Same IP']])\n",
        "else:\n",
        "  print('\\nAll the IP data matches')\n",
        "  display(wrong_ips)"
      ],
      "execution_count": 186,
      "outputs": [
        {
          "output_type": "stream",
          "text": [
            "\n",
            "The following rows contain erroneous data:\n"
          ],
          "name": "stdout"
        },
        {
          "output_type": "display_data",
          "data": {
            "text/html": [
              "<div>\n",
              "<style scoped>\n",
              "    .dataframe tbody tr th:only-of-type {\n",
              "        vertical-align: middle;\n",
              "    }\n",
              "\n",
              "    .dataframe tbody tr th {\n",
              "        vertical-align: top;\n",
              "    }\n",
              "\n",
              "    .dataframe thead th {\n",
              "        text-align: right;\n",
              "    }\n",
              "</style>\n",
              "<table border=\"1\" class=\"dataframe\">\n",
              "  <thead>\n",
              "    <tr style=\"text-align: right;\">\n",
              "      <th></th>\n",
              "      <th>Domain</th>\n",
              "      <th>Current IP</th>\n",
              "      <th>Current MX</th>\n",
              "      <th>Custom Nameserver</th>\n",
              "      <th>Custom Result IP</th>\n",
              "      <th>Custom Result MX</th>\n",
              "      <th>Same IP</th>\n",
              "      <th>Same MX</th>\n",
              "    </tr>\n",
              "  </thead>\n",
              "  <tbody>\n",
              "    <tr>\n",
              "      <th>3</th>\n",
              "      <td>arteric.com</td>\n",
              "      <td>100.24.243.130</td>\n",
              "      <td>10 alt1.aspmx.l.google.com.|30 aspmx2.googlema...</td>\n",
              "      <td>ns-1404.awsdns-47.org</td>\n",
              "      <td>100.24.243.130</td>\n",
              "      <td>1 aspmx.l.google.com.|10 alt3.aspmx.l.google.c...</td>\n",
              "      <td>False</td>\n",
              "      <td>False</td>\n",
              "    </tr>\n",
              "  </tbody>\n",
              "</table>\n",
              "</div>"
            ],
            "text/plain": [
              "        Domain      Current IP  ... Same IP Same MX\n",
              "3  arteric.com  100.24.243.130  ...   False   False\n",
              "\n",
              "[1 rows x 8 columns]"
            ]
          },
          "metadata": {
            "tags": []
          }
        },
        {
          "output_type": "stream",
          "text": [
            "\n",
            "\n",
            "The rest of the resuls are correct:\n"
          ],
          "name": "stdout"
        },
        {
          "output_type": "display_data",
          "data": {
            "text/html": [
              "<div>\n",
              "<style scoped>\n",
              "    .dataframe tbody tr th:only-of-type {\n",
              "        vertical-align: middle;\n",
              "    }\n",
              "\n",
              "    .dataframe tbody tr th {\n",
              "        vertical-align: top;\n",
              "    }\n",
              "\n",
              "    .dataframe thead th {\n",
              "        text-align: right;\n",
              "    }\n",
              "</style>\n",
              "<table border=\"1\" class=\"dataframe\">\n",
              "  <thead>\n",
              "    <tr style=\"text-align: right;\">\n",
              "      <th></th>\n",
              "      <th>Domain</th>\n",
              "      <th>Current IP</th>\n",
              "      <th>Current MX</th>\n",
              "      <th>Custom Nameserver</th>\n",
              "      <th>Custom Result IP</th>\n",
              "      <th>Custom Result MX</th>\n",
              "      <th>Same IP</th>\n",
              "      <th>Same MX</th>\n",
              "    </tr>\n",
              "  </thead>\n",
              "  <tbody>\n",
              "    <tr>\n",
              "      <th>0</th>\n",
              "      <td>arteric.com</td>\n",
              "      <td>100.24.243.130</td>\n",
              "      <td>10 alt1.aspmx.l.google.com.|30 aspmx2.googlema...</td>\n",
              "      <td>ns-592.awsdns-10.net</td>\n",
              "      <td>100.24.243.130</td>\n",
              "      <td>1 aspmx.l.google.com.|10 alt3.aspmx.l.google.c...</td>\n",
              "      <td>True</td>\n",
              "      <td>False</td>\n",
              "    </tr>\n",
              "    <tr>\n",
              "      <th>1</th>\n",
              "      <td>arteric.com</td>\n",
              "      <td>100.24.243.130</td>\n",
              "      <td>10 alt1.aspmx.l.google.com.|30 aspmx2.googlema...</td>\n",
              "      <td>ns-201.awsdns-25.com</td>\n",
              "      <td>100.24.243.130</td>\n",
              "      <td>1 aspmx.l.google.com.|10 alt3.aspmx.l.google.c...</td>\n",
              "      <td>True</td>\n",
              "      <td>False</td>\n",
              "    </tr>\n",
              "    <tr>\n",
              "      <th>2</th>\n",
              "      <td>arteric.com</td>\n",
              "      <td>100.24.243.130</td>\n",
              "      <td>10 alt1.aspmx.l.google.com.|30 aspmx2.googlema...</td>\n",
              "      <td>ns-1642.awsdns-13.co.uk</td>\n",
              "      <td>100.24.243.130</td>\n",
              "      <td>1 aspmx.l.google.com.|10 alt3.aspmx.l.google.c...</td>\n",
              "      <td>True</td>\n",
              "      <td>False</td>\n",
              "    </tr>\n",
              "    <tr>\n",
              "      <th>4</th>\n",
              "      <td>www.arteric.com</td>\n",
              "      <td>100.24.243.130</td>\n",
              "      <td>0 aspmx.l.google.com.|30 aspmx2.googlemail.com...</td>\n",
              "      <td>ns-592.awsdns-10.net</td>\n",
              "      <td>100.24.243.130</td>\n",
              "      <td>1 aspmx.l.google.com.|10 alt3.aspmx.l.google.c...</td>\n",
              "      <td>True</td>\n",
              "      <td>False</td>\n",
              "    </tr>\n",
              "    <tr>\n",
              "      <th>5</th>\n",
              "      <td>www.arteric.com</td>\n",
              "      <td>100.24.243.130</td>\n",
              "      <td>0 aspmx.l.google.com.|30 aspmx2.googlemail.com...</td>\n",
              "      <td>ns-201.awsdns-25.com</td>\n",
              "      <td>100.24.243.130</td>\n",
              "      <td>1 aspmx.l.google.com.|10 alt3.aspmx.l.google.c...</td>\n",
              "      <td>True</td>\n",
              "      <td>False</td>\n",
              "    </tr>\n",
              "    <tr>\n",
              "      <th>6</th>\n",
              "      <td>www.arteric.com</td>\n",
              "      <td>100.24.243.130</td>\n",
              "      <td>0 aspmx.l.google.com.|30 aspmx2.googlemail.com...</td>\n",
              "      <td>ns-1642.awsdns-13.co.uk</td>\n",
              "      <td>100.24.243.130</td>\n",
              "      <td>1 aspmx.l.google.com.|10 alt3.aspmx.l.google.c...</td>\n",
              "      <td>True</td>\n",
              "      <td>False</td>\n",
              "    </tr>\n",
              "    <tr>\n",
              "      <th>7</th>\n",
              "      <td>www.arteric.com</td>\n",
              "      <td>100.24.243.130</td>\n",
              "      <td>0 aspmx.l.google.com.|30 aspmx2.googlemail.com...</td>\n",
              "      <td>ns-1404.awsdns-47.org</td>\n",
              "      <td>100.24.243.130</td>\n",
              "      <td>1 aspmx.l.google.com.|10 alt3.aspmx.l.google.c...</td>\n",
              "      <td>True</td>\n",
              "      <td>False</td>\n",
              "    </tr>\n",
              "  </tbody>\n",
              "</table>\n",
              "</div>"
            ],
            "text/plain": [
              "            Domain      Current IP  ... Same IP Same MX\n",
              "0      arteric.com  100.24.243.130  ...    True   False\n",
              "1      arteric.com  100.24.243.130  ...    True   False\n",
              "2      arteric.com  100.24.243.130  ...    True   False\n",
              "4  www.arteric.com  100.24.243.130  ...    True   False\n",
              "5  www.arteric.com  100.24.243.130  ...    True   False\n",
              "6  www.arteric.com  100.24.243.130  ...    True   False\n",
              "7  www.arteric.com  100.24.243.130  ...    True   False\n",
              "\n",
              "[7 rows x 8 columns]"
            ]
          },
          "metadata": {
            "tags": []
          }
        }
      ]
    }
  ]
}